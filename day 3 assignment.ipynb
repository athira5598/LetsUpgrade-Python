{
 "cells": [
  {
   "cell_type": "code",
   "execution_count": 2,
   "metadata": {},
   "outputs": [],
   "source": [
    "# entering the recievers list\n",
    "reciever_list = [2 , 1 , 5 , 3 , 4]"
   ]
  },
  {
   "cell_type": "code",
   "execution_count": 3,
   "metadata": {},
   "outputs": [
    {
     "data": {
      "text/plain": [
       "{1: 2, 2: 1, 3: 5, 4: 3, 5: 4}"
      ]
     },
     "execution_count": 3,
     "metadata": {},
     "output_type": "execute_result"
    }
   ],
   "source": [
    "# creating dictionary to make person with to whom gifted\n",
    "dict = {\n",
    "    (reciever_list.index(reciever_list[0])+1):reciever_list[0],\n",
    "    (reciever_list.index(reciever_list[1])+1):reciever_list[1],\n",
    "    (reciever_list.index(reciever_list[2])+1):reciever_list[2],\n",
    "    (reciever_list.index(reciever_list[3])+1):reciever_list[3],\n",
    "    (reciever_list.index(reciever_list[4])+1):reciever_list[4]\n",
    "    }\n",
    "dict"
   ]
  },
  {
   "cell_type": "code",
   "execution_count": 4,
   "metadata": {},
   "outputs": [],
   "source": [
    "key_list = list(dict.keys())\n",
    "val_list = list(dict.values())\n",
    "donor_list=[0,0,0,0,0]\n",
    "for i in range(5):\n",
    "    position = val_list.index(reciever_list[i])\n",
    "    donor_list[val_list[position]-1] = key_list[position]"
   ]
  },
  {
   "cell_type": "code",
   "execution_count": 6,
   "metadata": {},
   "outputs": [
    {
     "data": {
      "text/plain": [
       "4"
      ]
     },
     "execution_count": 6,
     "metadata": {},
     "output_type": "execute_result"
    }
   ],
   "source": [
    "position"
   ]
  },
  {
   "cell_type": "code",
   "execution_count": 4,
   "metadata": {},
   "outputs": [
    {
     "name": "stdout",
     "output_type": "stream",
     "text": [
      "[2, 1, 4, 5, 3]\n"
     ]
    }
   ],
   "source": [
    "print(donor_list)"
   ]
  }
 ],
 "metadata": {
  "kernelspec": {
   "display_name": "Python 3",
   "language": "python",
   "name": "python3"
  },
  "language_info": {
   "codemirror_mode": {
    "name": "ipython",
    "version": 3
   },
   "file_extension": ".py",
   "mimetype": "text/x-python",
   "name": "python",
   "nbconvert_exporter": "python",
   "pygments_lexer": "ipython3",
   "version": "3.8.5"
  }
 },
 "nbformat": 4,
 "nbformat_minor": 5
}
